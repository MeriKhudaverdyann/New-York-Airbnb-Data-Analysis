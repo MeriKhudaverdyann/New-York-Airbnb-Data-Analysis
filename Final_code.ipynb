{
 "cells": [
  {
   "cell_type": "code",
   "execution_count": 18,
   "id": "1498c64b-a8f3-4bf4-a18a-72686302454d",
   "metadata": {},
   "outputs": [
    {
     "name": "stderr",
     "output_type": "stream",
     "text": [
      "C:\\Users\\angin\\AppData\\Local\\Temp\\ipykernel_29540\\1022721962.py:7: DtypeWarning: Columns (25) have mixed types. Specify dtype option on import or set low_memory=False.\n",
      "  df = pd.read_csv(file_path)\n",
      "C:\\Users\\angin\\AppData\\Local\\Temp\\ipykernel_29540\\1022721962.py:13: FutureWarning: DataFrame.applymap has been deprecated. Use DataFrame.map instead.\n",
      "  df = df.applymap(lambda x: \" \".join(str(x).split()) if isinstance(x, str) else x)\n"
     ]
    },
    {
     "name": "stdout",
     "output_type": "stream",
     "text": [
      "id                                         int64\n",
      "name                                      object\n",
      "host_id                                    int64\n",
      "host_identity_verified                    object\n",
      "host_name                                 object\n",
      "neighbourhood_group                       object\n",
      "neighbourhood                             object\n",
      "lat                                      float64\n",
      "long                                     float64\n",
      "instant_bookable                          object\n",
      "cancellation_policy                       object\n",
      "room_type                                 object\n",
      "construction_year                        float64\n",
      "price                                    float64\n",
      "service_fee                              float64\n",
      "minimum_nights                           float64\n",
      "number_of_reviews                        float64\n",
      "last_review                       datetime64[ns]\n",
      "reviews_per_month                        float64\n",
      "review_rate_number                       float64\n",
      "calculated_host_listings_count           float64\n",
      "availability_365                         float64\n",
      "house_rules                               object\n",
      "dtype: object\n"
     ]
    },
    {
     "name": "stderr",
     "output_type": "stream",
     "text": [
      "C:\\Users\\angin\\AppData\\Local\\Temp\\ipykernel_29540\\1022721962.py:62: FutureWarning: DataFrame.applymap has been deprecated. Use DataFrame.map instead.\n",
      "  df = df.applymap(lambda x: x.title().strip() if isinstance(x, str) else x)\n"
     ]
    },
    {
     "name": "stdout",
     "output_type": "stream",
     "text": [
      "Cleaned data has been saved to: C:\\Users\\angin\\OneDrive\\Desktop\\data analytics\\Project_2\\Airbnb_Open_Data_Zzveci.csv\n"
     ]
    }
   ],
   "source": [
    "import pandas as pd\n",
    "import numpy as np\n",
    "from sklearn.neighbors import KNeighborsClassifier\n",
    "\n",
    "# Load the dataset\n",
    "file_path = r'C:\\Users\\angin\\OneDrive\\Desktop\\data analytics\\Project_2\\Airbnb_Open_Data.csv'  # Update with your file path\n",
    "df = pd.read_csv(file_path)\n",
    "\n",
    "# 1. Delete all duplicates\n",
    "df.drop_duplicates(inplace=True)\n",
    "\n",
    "# 2. Delete all additional spaces and enters between words in text columns\n",
    "df = df.applymap(lambda x: \" \".join(str(x).split()) if isinstance(x, str) else x)\n",
    "\n",
    "# 3. Change uppercase words that are the titles in the columns to lowercase\n",
    "# 4. Replace spaces in column titles with underscores\n",
    "df.columns = df.columns.str.lower().str.replace(' ', '_')\n",
    "\n",
    "# 5. Remove $ character from 'price' and 'service_fee' columns and convert to float\n",
    "df['price'] = df['price'].replace('[\\$,]', '', regex=True).astype(float)\n",
    "df['service_fee'] = df['service_fee'].replace('[\\$,]', '', regex=True).astype(float)\n",
    "\n",
    "# 6. Handle null cells\n",
    "# Add 0 for null cells in the service_fee column\n",
    "df['service_fee'].fillna(0, inplace=True)\n",
    "\n",
    "# Calculate the median for the price column and fill null values\n",
    "price_median = df['price'].median()\n",
    "df['price'].fillna(price_median, inplace=True)\n",
    "\n",
    "# Fill null values in neighbourhood_group based on neighbourhood\n",
    "df['neighbourhood_group'] = df.apply(\n",
    "    lambda row: df[df['neighbourhood'] == row['neighbourhood']]['neighbourhood_group'].mode()[0]\n",
    "    if pd.isnull(row['neighbourhood_group']) and not pd.isnull(row['neighbourhood']) else row['neighbourhood_group'],\n",
    "    axis=1\n",
    ")\n",
    "\n",
    "# Predict null values in neighbourhood based on lat and long if there are null values\n",
    "if df['neighbourhood'].isnull().any():\n",
    "    train_data = df.dropna(subset=['neighbourhood', 'lat', 'long'])\n",
    "    if not train_data.empty:\n",
    "        knn = KNeighborsClassifier(n_neighbors=3)\n",
    "        knn.fit(train_data[['lat', 'long']], train_data['neighbourhood'])\n",
    "        # Predict neighbourhood for rows with missing values\n",
    "        null_neighbourhood = df['neighbourhood'].isnull()\n",
    "        df.loc[null_neighbourhood, 'neighbourhood'] = knn.predict(df.loc[null_neighbourhood, ['lat', 'long']])\n",
    "\n",
    "# Replace null values in text columns with \"Unspecified\" and in numeric columns with NaN\n",
    "df.fillna(value={col: 'Unspecified' if df[col].dtype == 'object' else np.nan for col in df.columns}, inplace=True)\n",
    "\n",
    "# Replace null cells in last_review column with NaT\n",
    "df['last_review'] = pd.to_datetime(df['last_review'], errors='coerce')\n",
    "\n",
    "# 7. Delete specified columns\n",
    "columns_to_remove = ['license', 'country_code', 'country']\n",
    "df.drop(columns=[col for col in columns_to_remove if col in df.columns], inplace=True)\n",
    "\n",
    "# 8. Provide the types of each column for importing the data to pgAdmin\n",
    "print(df.dtypes)\n",
    "\n",
    "# 9. Standardize text data and fix specific misspellings\n",
    "df = df.applymap(lambda x: x.title().strip() if isinstance(x, str) else x)\n",
    "df['neighbourhood_group'] = df['neighbourhood_group'].replace({'Brookln': 'Brooklyn', 'Manhatan': 'Manhattan'})\n",
    "\n",
    "# 10. For \"availability_365\" column make the numbers of absolute type and limit the maximum value to \"366\"\n",
    "df['availability_365'] = df['availability_365'].abs().clip(upper=366)\n",
    "\n",
    "# Save the cleaned data to a new CSV file\n",
    "output_file_path = r'C:\\Users\\angin\\OneDrive\\Desktop\\data analytics\\Project_2\\Airbnb_Open_Data_Zzveci.csv'\n",
    "df.to_csv(output_file_path, index=False)\n",
    "\n",
    "print(\"Cleaned data has been saved to:\", output_file_path)\n"
   ]
  },
  {
   "cell_type": "code",
   "execution_count": 23,
   "id": "c261fe2f-5442-4632-87a2-19fbb2d00646",
   "metadata": {},
   "outputs": [
    {
     "name": "stdout",
     "output_type": "stream",
     "text": [
      "Requirement already satisfied: geopy in c:\\users\\angin\\anaconda3\\lib\\site-packages (2.4.1)\n",
      "Requirement already satisfied: geographiclib<3,>=1.52 in c:\\users\\angin\\anaconda3\\lib\\site-packages (from geopy) (2.0)\n",
      "604, Driggs Avenue, Williamsburg, Brooklyn, Kings County, City of New York, New York, 11211, United States\n"
     ]
    }
   ],
   "source": [
    "!pip install geopy\n",
    "\n",
    "from geopy.geocoders import Nominatim\n",
    "\n",
    "# Initialize Nominatim API\n",
    "geolocator = Nominatim(user_agent=\"geoapiExercises\")\n",
    "\n",
    "# Latitude and Longitude input\n",
    "latitude = 40.7158\n",
    "longitude = -73.95803\n",
    "\n",
    "# Get location\n",
    "location = geolocator.reverse((latitude, longitude), exactly_one=True)\n",
    "\n",
    "# Print location details\n",
    "print(location.address)\n"
   ]
  },
  {
   "cell_type": "code",
   "execution_count": 24,
   "id": "efef2d27-8038-42df-b6a7-c587241d3018",
   "metadata": {},
   "outputs": [
    {
     "name": "stdout",
     "output_type": "stream",
     "text": [
      "Citi bike - East 47th Street & 2nd Avenue, East 47th Street, Beekman, Manhattan Community Board 6, Manhattan, New York County, City of New York, New York, 10017, United States\n"
     ]
    }
   ],
   "source": [
    "# Latitude and Longitude input\n",
    "latitude = 40.75348\n",
    "longitude = -73.97065\n",
    "\n",
    "# Get location\n",
    "location = geolocator.reverse((latitude, longitude), exactly_one=True)\n",
    "\n",
    "# Print location details\n",
    "print(location.address)"
   ]
  },
  {
   "cell_type": "code",
   "execution_count": null,
   "id": "bec5239b-6050-4dd3-adae-eeda1e50fa66",
   "metadata": {},
   "outputs": [],
   "source": []
  }
 ],
 "metadata": {
  "kernelspec": {
   "display_name": "Python 3 (ipykernel)",
   "language": "python",
   "name": "python3"
  },
  "language_info": {
   "codemirror_mode": {
    "name": "ipython",
    "version": 3
   },
   "file_extension": ".py",
   "mimetype": "text/x-python",
   "name": "python",
   "nbconvert_exporter": "python",
   "pygments_lexer": "ipython3",
   "version": "3.11.7"
  }
 },
 "nbformat": 4,
 "nbformat_minor": 5
}
